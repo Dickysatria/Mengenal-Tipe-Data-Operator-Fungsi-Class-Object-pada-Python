{
 "cells": [
  {
   "cell_type": "raw",
   "id": "7d214b39",
   "metadata": {},
   "source": [
    "    Nama : Riyan Dicky Satria \n",
    "    NIM  : 18.11.2110\n",
    "    Kelas: BDL03"
   ]
  },
  {
   "cell_type": "raw",
   "id": "5ffa3cf6",
   "metadata": {},
   "source": [
    "Pokok Bahasan 1:\n",
    "1.2 Daftar Pertanyaan\n",
    " 1. Apakah bentuk tipe data yang ada dalam python ?\n",
    "    Numeric,Boolean,None,Sequence,Set,Map\n",
    " 2. Apakah fungsi penggunaan tipe data pada python ?\n",
    "    Mengelompokkan variable berdasarkan tipedata yang tersedia"
   ]
  },
  {
   "cell_type": "raw",
   "id": "49cedf6f",
   "metadata": {},
   "source": [
    "Kompetensi 1 ;\n"
   ]
  },
  {
   "cell_type": "raw",
   "id": "a0acaaa2",
   "metadata": {},
   "source": [
    "D. Latihan 1.1\n",
    "\n",
    "    1 Berapakah nilai bilangan tipe data integer pada nilai desimal 3.14?  Tuliskan fungsi dalam melakukan konversinya"
   ]
  },
  {
   "cell_type": "code",
   "execution_count": 12,
   "id": "553c8a67",
   "metadata": {
    "scrolled": true
   },
   "outputs": [
    {
     "name": "stdout",
     "output_type": "stream",
     "text": [
      "3\n"
     ]
    }
   ],
   "source": [
    "#deklarasi variabel d\n",
    "d = 3.14\n",
    "#menampilkan variabel d menjadi bentuk int \n",
    "print(int(d))"
   ]
  },
  {
   "cell_type": "raw",
   "id": "b908e846",
   "metadata": {},
   "source": [
    "2 Tipe data tuple sama seperti list namun tidak dapat diubah, namun bagaimanakah cara untuk apabila tetap ingin mengubah variable tipe data tuple dibawah ini ? daftar_tuple = {1,2,3,4} Menjadi daftar_tuple = {4,3,2,1}"
   ]
  },
  {
   "cell_type": "code",
   "execution_count": 3,
   "id": "1d4553e1",
   "metadata": {},
   "outputs": [
    {
     "name": "stdout",
     "output_type": "stream",
     "text": [
      "[4, 3, 2, 1]\n"
     ]
    }
   ],
   "source": [
    "#deklarasi variabel daftar_tuple\n",
    "daftar_tuple = [1,2,3,4]\n",
    "#menampilkan isi variabel dengan urut dimulai dengan angka terbesar\n",
    "print(sorted(daftar_tuple,reverse=True))"
   ]
  },
  {
   "cell_type": "raw",
   "id": "3f134bc3",
   "metadata": {},
   "source": [
    "3 Tuliskan langkah dalam mengubah umur menjadi 25 tahun (terdapat kata “tahun”)"
   ]
  },
  {
   "cell_type": "code",
   "execution_count": 15,
   "id": "2fe0e49b",
   "metadata": {},
   "outputs": [
    {
     "name": "stdout",
     "output_type": "stream",
     "text": [
      "Nama = Agus\n",
      "Usia = 25 Tahun\n"
     ]
    }
   ],
   "source": [
    "#deklarasi variable nama dan umur\n",
    "profil = {\"nama\" : \"Agus\",\"umur\" : 25}\n",
    "profil[\"umur\"] = \"25 Tahun\"\n",
    "#menampilkan variable nama dan umur\n",
    "print(\"Nama =\",profil[\"nama\"])\n",
    "print(\"Usia =\",profil[\"umur\"])"
   ]
  },
  {
   "cell_type": "raw",
   "id": "2e61933e",
   "metadata": {},
   "source": [
    "Kesimpulan \n",
    "  - disini saat pendeklarasian variable kita tidak perlu mengetikkan tipe data lagi \n",
    "   karena python dapat mengenali tipe data dengan lebih mudah\n",
    " - struktur codenya lebih mudah dan simple"
   ]
  },
  {
   "cell_type": "raw",
   "id": "9c605353",
   "metadata": {},
   "source": [
    "Pokok Bahasan 2;\n",
    "1.2 Daftar Pertanyaan\n",
    "\n",
    "1.Apakah operator dalam Python? \n",
    "simbol khusus yang berfungsi untuk menjalankan suatu operasi tertentu, baik operasi aritmatika maupun operasi logika.\n",
    "\n",
    "2.Bagaimanakah cara penggunaan pada Python?\n",
    "tergantung jenis masing\" pada operator sebagai contoh operator penugasan   Seperti namanya, operator ini digunakan untuk memberikan tugas pada variabel.\n",
    "Contoh penulisan \n",
    "  umur = 20\n",
    "Maka variabel umur telah kita berikan tugas untuk menyimpan angka 18.\n",
    "Selain menyimpan atau pengisian nilai, ada juga menjumlahkan, mengurangi,    perkalian, pembagian, dsb."
   ]
  },
  {
   "cell_type": "raw",
   "id": "8c74dc19",
   "metadata": {},
   "source": [
    "Kompetensi 2"
   ]
  },
  {
   "cell_type": "raw",
   "id": "0c16926b",
   "metadata": {},
   "source": [
    "\n",
    "D. Latihan 2\n",
    "   1. Buat sebuah variabel dengan nama barang; tambahkan nilai 10 pada variabel barang; buat variabel kedua dengan nama barang2; tambahkan variabel barang2 dengan variabel barang; tampilkan hasilnya!"
   ]
  },
  {
   "cell_type": "code",
   "execution_count": 19,
   "id": "4c6a962c",
   "metadata": {},
   "outputs": [
    {
     "name": "stdout",
     "output_type": "stream",
     "text": [
      "Barang : 10\n",
      "Barang2 : 10\n"
     ]
    }
   ],
   "source": [
    "#deklarasi variabel barang \n",
    "barang = 10\n",
    "#barang2 ini akan dibuat sama dengan isinya barang \n",
    "barang2 = barang\n",
    "#menampilkan variabel barang2\n",
    "print(\"Barang :\",barang)\n",
    "print(\"Barang2 :\",barang2)"
   ]
  },
  {
   "cell_type": "raw",
   "id": "eed15bd7",
   "metadata": {},
   "source": [
    "2 Tampilkan rumus dalam pencarian luas lingkaran dengan nilai phi 3,14 pada jari-jari lingkarang sepanjang 7 cm !"
   ]
  },
  {
   "cell_type": "code",
   "execution_count": 20,
   "id": "78bd4ed3",
   "metadata": {},
   "outputs": [
    {
     "name": "stdout",
     "output_type": "stream",
     "text": [
      "Masukkan jari-jari lingkaran =7\n",
      "Luas lingkaran adalah =153.86\n"
     ]
    }
   ],
   "source": [
    "#deklarasi variabel phi\n",
    "phi =3.14\n",
    "#membuat inputan r dengan tipe data float\n",
    "r = float(input(\"Masukkan jari-jari lingkaran =\"))\n",
    "#rumus Luas lingkaran\n",
    "luas = phi*r*r\n",
    "#menampilkan hasil luas lingkaran\n",
    "print(\"Luas lingkaran adalah =\"+str(luas))"
   ]
  },
  {
   "cell_type": "raw",
   "id": "71026501",
   "metadata": {},
   "source": [
    "3 Pada kolam renang dengan volume 25.000 liter akan diisi dengan keran air dengan debit 20 liter/menit. Buatlah perhitungan berapa jam waktu pengisian kolam apabila kapasitas kolam hanya akan diisi 75% saja !"
   ]
  },
  {
   "cell_type": "code",
   "execution_count": 8,
   "id": "a098d797",
   "metadata": {},
   "outputs": [
    {
     "name": "stdout",
     "output_type": "stream",
     "text": [
      "waktu pengisian kolam sampai full = 1250.0 menit\n",
      "waktu pengisian selama 75% = 937.5 menit\n",
      "jadi waktu yang dibutuhkan untuk mengisi kolam sebanyak 75% = 15.625 jam\n"
     ]
    }
   ],
   "source": [
    "#deklarasi variable \n",
    "volume = 25000 #25000liter\n",
    "debit =20 #20liter/menit\n",
    "#rumus menghitung waktu pengisian valome penuh dalam menit \n",
    "menit = volume/debit\n",
    "#menampilkan waktu pengisian kolam sampai full\n",
    "print(\"waktu pengisian kolam sampai full =\",menit,\"menit\") #kondisi kolam full\n",
    "#jadi yang diinginkan adalah 75% dari kolam full maka dirumuskan seperti dibawah\n",
    "waktu_pengisian_yg_dicari = menit*(75/100)\n",
    "#menampilkan waktu pengisian selama 75% dalam menit\n",
    "print(\"waktu pengisian selama 75% =\",waktu_pengisian_yg_dicari,\"menit\")\n",
    "#fungsi konfersi menit ke jam\n",
    "konfersi_ke_jam = waktu_pengisian_yg_dicari/60\n",
    "#menampilkan hasil akhir\n",
    "print(\"jadi waktu yang dibutuhkan untuk mengisi kolam sebanyak 75% =\",konfersi_ke_jam,\"jam\")"
   ]
  },
  {
   "cell_type": "raw",
   "id": "b5c7105d",
   "metadata": {},
   "source": [
    "Kesimpulan : Operator adalah salah satu fitur dari python itu sendiri sama seperti bahasa pemrograman yang lain,baik penugasan,aritmatika,perbandingan dan lain-lain."
   ]
  },
  {
   "cell_type": "raw",
   "id": "e48300bb",
   "metadata": {},
   "source": [
    "Pokok Bahasan 3\n",
    "1.2 Daftar pertanyaan\n",
    "   1. Apakah yang dimaksud object dalam bahasa python? \n",
    "      kumpulan dari variabel-variabel (dinamakan atribut) dan kumpulan dari\n",
    "      fungsi-fungsi (dinamakan perilaku).\n",
    "   2. Apakah yang dimaksud class dalam bahasa python? \n",
    "       Class merupakan blueprint / kerangka untuk membentuk suatu objek.\n",
    "   3. Apabila perbedaan dari method, fungsi, dan object? \n",
    "       - fungsi adalah bagian dari kode yang disebut dengan nama.\n",
    "       - metode adalah bagian dari kode yang disebut dengan nama yang dikaitkan\n",
    "         dengan objek.\n",
    "       - Objek adalah kumpulan dari variabel-variabel (dinamakan atribut) dan \n",
    "         kumpulan dari fungsi-fungsi (dinamakan perilaku)."
   ]
  },
  {
   "cell_type": "raw",
   "id": "3666ae6c",
   "metadata": {},
   "source": [
    "Kompetensi 3A\n",
    "D. Lathian 3.1\n",
    " 1. Apa yang dimaksud fungsi dalam Python? Sebutkan contoh dalam pendeklarasian\n",
    "    suatu fungsi ! \n",
    "   - Fungsi atau method adalah suatu blog program yang digunakan untuk \n",
    "     menjalankan suatu tugas tertentu.\n",
    "     contoh :\n",
    "     def tamplikanWarna(warna):\n",
    "     print(\"Biru\",warna)\n",
    "   \n",
    "   \n",
    " 2. Terdapat 2 jenis fungsi dalam bahasa Python, sebutkan dan jelaskan ! \n",
    "      - Fungsi yang telah dibuat/disediakan atau biasa kita sebut sebagai built\n",
    "        in function.\n",
    "      - Fungsi yang dibuat oleh pengembang (user defined function).\n",
    "      \n",
    "E. Kesimpulan : fungsi/method dalam python hampir sama dengan bahasa \n",
    "   pemrograman lainnya jika seesorang mempunyai pengalaman dengan bahasa \n",
    "   pemrograman lain maka akan mudah untuk beradaptasi di python ini."
   ]
  },
  {
   "cell_type": "raw",
   "id": "51c8314c",
   "metadata": {},
   "source": [
    "Kompetensi 3B\n",
    " D. Latihan 3.2\n",
    "    Diberikan kasus masalah, silahkan buat sebuah program (bentuk program\n",
    "    bebas) dalam menghitung estimasi biaya penjualan barang dengan spesifikasi\n",
    "    sebagai berikut :\n",
    "\n",
    "    1. Input parameter biaya harus lebih dari 0\n",
    "\n",
    "    2. Output berupa nilai biaya penjualan ditambahkan dengan total pajak yang \n",
    "       harus dibayarkan.\n",
    "\n",
    "    3. Total pajak yang harus dibayarkan adalah 10% dari total barang"
   ]
  },
  {
   "cell_type": "code",
   "execution_count": 20,
   "id": "2ac7dd75",
   "metadata": {},
   "outputs": [
    {
     "name": "stdout",
     "output_type": "stream",
     "text": [
      "Biaya penjualan =200000\n",
      "Total biaya penjualan = 220000.0\n"
     ]
    }
   ],
   "source": [
    "#membuat variable inputan dengan tipe data float\n",
    "a=float(input(\"Biaya penjualan =\"))\n",
    "#deklarasi ppn\n",
    "ppn = (10/100)\n",
    "#rumus menghitung pajak\n",
    "pajak = a*ppn\n",
    "#rumus menghitung pajak\n",
    "total = a+pajak\n",
    "#menampilkan total biaya penjualan\n",
    "print(\"Total biaya penjualan =\",total)"
   ]
  },
  {
   "cell_type": "raw",
   "id": "100413cc",
   "metadata": {},
   "source": [
    "Kesimpulan : program fungsi/method akan berfungsi jika dipanggil,adanya fungsi membuat code menjadi lebih mudah dan terstruktur dalam pengerjaan suatu program tersebut.\n",
    "\n"
   ]
  },
  {
   "cell_type": "raw",
   "id": "9e6638e6",
   "metadata": {},
   "source": [
    "kompetensi 3C\n",
    "\n",
    "Diberikan kasus masalah, silahkan buat sebuah program dalam menghitung estimasi biaya penjualan barang dengan mengimplementasikan bentuk Class dan Object dengan spesifikasi sebagai berikut :\n",
    "\n",
    " 1. Input parameter pada class adalah nama barang dan harga\n",
    "\n",
    " 2. Output berupa nilai biaya penjualan ditambahkan dengan total pajak 10% dari\n",
    "    harga barang yang harus dibayarkan.\n",
    "\n",
    "    Output =\n",
    "\n",
    "    harga Barang : 100.000\n",
    "\n",
    "    potongan : 1000\n",
    "\n",
    "    ppn 10% : 5000\n",
    "\n",
    "    total Barang: 15.5000\n",
    "\n",
    "  3. Apabila total biaya penjualan suatu barang (tidak termasuk pajak) diatas\n",
    "     100.000 maka akan diberikan potongan (diluar pajak) sebesar 5% dari total\n",
    "     biaya suatu barang.\n",
    "\n",
    "  4. Pada class yang dibuat, wajib mendifinisikan bentuk dari construktor\n",
    "     beserta method dalam melakukan kalkulasi"
   ]
  },
  {
   "cell_type": "code",
   "execution_count": 9,
   "id": "1c1b35a4",
   "metadata": {
    "scrolled": true
   },
   "outputs": [
    {
     "name": "stdout",
     "output_type": "stream",
     "text": [
      "Nama Barang : Sepatu \n",
      "Harga Barang : 150000 \n",
      "Potongan Barang : 7500 \n",
      "Pajak : 15000 \n",
      "Total harga Barang : 157500\n"
     ]
    }
   ],
   "source": [
    "class Penjualan:\n",
    "    # inisialisai attribute\n",
    "    namaBarang = \"\"\n",
    "    hargaBarang = 0\n",
    "    diskonBarang = 0\n",
    "    pajakBarang = 0\n",
    "    totalHargaBarang = 0\n",
    "    ppn = (10/100)\n",
    "\n",
    "    # contructor class penjualan dengan wajib menginputkan 2 paramter\n",
    "    def __init__(self, nama, harga):\n",
    "        self.namaBarang = nama\n",
    "        self.hargaBarang = harga\n",
    "\n",
    "    # metod untuk menghitung diskon barang\n",
    "    def hitungDiskonBarang(self):\n",
    "        self.diskonBarang = int(5/100 * self.hargaBarang)\n",
    "\n",
    "    # metod untuk menghitung pajak barang\n",
    "    def hitungPajakBarang(self):\n",
    "        self.pajakBarang = int(self.ppn * self.hargaBarang)\n",
    "\n",
    "    # metod untuk menghitung total harga barang\n",
    "    def hitungTotalHargaBarang(self):\n",
    "        # jika harga barang lebih dari 100000 maka akan mengeksekusi if dibawah ini. jika tidak maka akan terlewati\n",
    "        if(self.hargaBarang > 100000):\n",
    "            self.hitungDiskonBarang()\n",
    "        \n",
    "        # memanggil method / fungsi hitung pajak barang\n",
    "        self.hitungPajakBarang()\n",
    "        \n",
    "        # menghitung total harga barang \n",
    "        self.totalHargaBarang = (self.hargaBarang - self.diskonBarang) + self.pajakBarang\n",
    "    \n",
    "    # metod untuk menampilkan hasil penjualan\n",
    "    def displayPenjualan(self):\n",
    "        self.hitungTotalHargaBarang()\n",
    "        print(\"Nama Barang :\", self.namaBarang, \"\\nHarga Barang :\", self.hargaBarang, \n",
    "                \"\\nPotongan Barang :\", self.diskonBarang, \"\\nPajak :\", self.pajakBarang,  \n",
    "                \"\\nTotal harga Barang :\", self.totalHargaBarang)\n",
    "\n",
    "# Pembuatan object \n",
    "Barang1 = Penjualan(\"Sepatu\",150000)\n",
    "Barang1.displayPenjualan()"
   ]
  },
  {
   "cell_type": "raw",
   "id": "79c7c105",
   "metadata": {},
   "source": [
    "Kesimpulan : class membuat program menjadi lebih mudah terstruktur dan mudah memahaminya,codenya pun terpisah antara tiap fungsi.dan juga penggunaan object juga membantu program supaya tidak mengetikkan ulang ."
   ]
  },
  {
   "cell_type": "code",
   "execution_count": null,
   "id": "c4ae20fa",
   "metadata": {},
   "outputs": [],
   "source": []
  },
  {
   "cell_type": "code",
   "execution_count": null,
   "id": "c0177665",
   "metadata": {},
   "outputs": [],
   "source": []
  }
 ],
 "metadata": {
  "kernelspec": {
   "display_name": "Python 3",
   "language": "python",
   "name": "python3"
  },
  "language_info": {
   "codemirror_mode": {
    "name": "ipython",
    "version": 3
   },
   "file_extension": ".py",
   "mimetype": "text/x-python",
   "name": "python",
   "nbconvert_exporter": "python",
   "pygments_lexer": "ipython3",
   "version": "3.9.5"
  }
 },
 "nbformat": 4,
 "nbformat_minor": 5
}
